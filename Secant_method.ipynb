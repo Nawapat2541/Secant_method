{
  "nbformat": 4,
  "nbformat_minor": 0,
  "metadata": {
    "colab": {
      "name": "Secant_method.ipynb",
      "provenance": [],
      "collapsed_sections": [],
      "authorship_tag": "ABX9TyN2RCTWFwcimYuxP80eOin8",
      "include_colab_link": true
    },
    "kernelspec": {
      "name": "python3",
      "display_name": "Python 3"
    },
    "language_info": {
      "name": "python"
    }
  },
  "cells": [
    {
      "cell_type": "markdown",
      "metadata": {
        "id": "view-in-github",
        "colab_type": "text"
      },
      "source": [
        "<a href=\"https://colab.research.google.com/github/Nawapat2541/Secant_method/blob/main/Secant_method.ipynb\" target=\"_parent\"><img src=\"https://colab.research.google.com/assets/colab-badge.svg\" alt=\"Open In Colab\"/></a>"
      ]
    },
    {
      "cell_type": "code",
      "metadata": {
        "id": "gSrBuVe4hl3j"
      },
      "source": [
        "def secant_method(func, x0, x1, tol, n_max):\n",
        "    n = 1\n",
        "\n",
        "    def f(x):\n",
        "        f = eval(func)\n",
        "        return f\n",
        "\n",
        "    while True:\n",
        "      if float(f(x1) - f(x0)) == 0.0:\n",
        "        print(\"Zero division!\")\n",
        "        break\n",
        "\n",
        "      x2 = x1 - f(x1) * (x1 - x0) / float(f(x1) - f(x0))\n",
        "      x0, x1 = x1, x2\n",
        "      diff = abs(x0-x1)\n",
        "\n",
        "      print(f\"The error is {diff}, the iteration round#{n}.\")\n",
        "      print(f\"The lower boundary is {x0} and the upper boundary is {x1}.\")\n",
        "      print(\"------------------------------------------------------------\")\n",
        "\n",
        "      if n_max <= n:\n",
        "        print(\"Out of iteration limit!\")\n",
        "        break\n",
        "\n",
        "      if abs(f(diff)) <= tol:\n",
        "        print(\"tolerance is out of limit!\")\n",
        "        break\n",
        "\n",
        "      n = n + 1\n",
        "\n",
        "    return x2"
      ],
      "execution_count": null,
      "outputs": []
    },
    {
      "cell_type": "code",
      "metadata": {
        "colab": {
          "base_uri": "https://localhost:8080/"
        },
        "id": "duzHDYU5hq7a",
        "outputId": "e359381f-fea7-47c8-e3e3-4a29b1f91bd6"
      },
      "source": [
        "try:\n",
        "    root = secant_method(\"(x**3)+(-6*x**2)+(11*x)+(-6)\", 2.5, 4, 0.01, 20)\n",
        "    print(f\"the root of a polynomial = {root}\")\n",
        "except NameError:\n",
        "    print(\"An exception occurred\")"
      ],
      "execution_count": null,
      "outputs": [
        {
          "output_type": "stream",
          "name": "stdout",
          "text": [
            "The error is 1.4117647058823533, the iteration round#1.\n",
            "The lower boundary is 4 and the upper boundary is 2.5882352941176467.\n",
            "------------------------------------------------------------\n",
            "The error is 0.08506233403843533, the iteration round#2.\n",
            "The lower boundary is 2.5882352941176467 and the upper boundary is 2.673297628156082.\n",
            "------------------------------------------------------------\n",
            "The error is 1.8836078072367557, the iteration round#3.\n",
            "The lower boundary is 2.673297628156082 and the upper boundary is 4.556905435392838.\n",
            "------------------------------------------------------------\n",
            "The error is 1.835884696040086, the iteration round#4.\n",
            "The lower boundary is 4.556905435392838 and the upper boundary is 2.7210207393527517.\n",
            "------------------------------------------------------------\n",
            "The error is 0.04381388121832197, the iteration round#5.\n",
            "The lower boundary is 2.7210207393527517 and the upper boundary is 2.7648346205710737.\n",
            "------------------------------------------------------------\n",
            "The error is 0.48365929575818045, the iteration round#6.\n",
            "The lower boundary is 2.7648346205710737 and the upper boundary is 3.248493916329254.\n",
            "------------------------------------------------------------\n",
            "The error is 0.3324024003080517, the iteration round#7.\n",
            "The lower boundary is 3.248493916329254 and the upper boundary is 2.9160915160212024.\n",
            "------------------------------------------------------------\n",
            "The error is 0.057947870252751166, the iteration round#8.\n",
            "The lower boundary is 2.9160915160212024 and the upper boundary is 2.9740393862739536.\n",
            "------------------------------------------------------------\n",
            "The error is 0.029707368207034346, the iteration round#9.\n",
            "The lower boundary is 2.9740393862739536 and the upper boundary is 3.003746754480988.\n",
            "------------------------------------------------------------\n",
            "The error is 0.003896522348135978, the iteration round#10.\n",
            "The lower boundary is 3.003746754480988 and the upper boundary is 2.999850232132852.\n",
            "------------------------------------------------------------\n",
            "The error is 0.00014892967092317022, the iteration round#11.\n",
            "The lower boundary is 2.999850232132852 and the upper boundary is 2.999999161803775.\n",
            "------------------------------------------------------------\n",
            "The error is 8.383845631065867e-07, the iteration round#12.\n",
            "The lower boundary is 2.999999161803775 and the upper boundary is 3.0000000001883382.\n",
            "------------------------------------------------------------\n",
            "The error is 1.883404543434608e-10, the iteration round#13.\n",
            "The lower boundary is 3.0000000001883382 and the upper boundary is 2.999999999999998.\n",
            "------------------------------------------------------------\n",
            "The error is 5.329070518200751e-15, the iteration round#14.\n",
            "The lower boundary is 2.999999999999998 and the upper boundary is 3.000000000000003.\n",
            "------------------------------------------------------------\n",
            "The error is 2.220446049250313e-15, the iteration round#15.\n",
            "The lower boundary is 3.000000000000003 and the upper boundary is 3.000000000000001.\n",
            "------------------------------------------------------------\n",
            "The error is 2.220446049250313e-15, the iteration round#16.\n",
            "The lower boundary is 3.000000000000001 and the upper boundary is 2.9999999999999987.\n",
            "------------------------------------------------------------\n",
            "The error is 1.3322676295501878e-15, the iteration round#17.\n",
            "The lower boundary is 2.9999999999999987 and the upper boundary is 3.0.\n",
            "------------------------------------------------------------\n",
            "The error is 0.0, the iteration round#18.\n",
            "The lower boundary is 3.0 and the upper boundary is 3.0.\n",
            "------------------------------------------------------------\n",
            "Zero division!\n",
            "the root of a polynomial = 3.0\n"
          ]
        }
      ]
    }
  ]
}